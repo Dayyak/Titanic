{
 "cells": [
  {
   "cell_type": "markdown",
   "id": "9d6552ea",
   "metadata": {
    "papermill": {
     "duration": 0.007496,
     "end_time": "2024-10-16T16:24:01.795892",
     "exception": false,
     "start_time": "2024-10-16T16:24:01.788396",
     "status": "completed"
    },
    "tags": []
   },
   "source": [
    "# Data Exploring"
   ]
  },
  {
   "cell_type": "code",
   "execution_count": 1,
   "id": "e0ec1172",
   "metadata": {
    "execution": {
     "iopub.execute_input": "2024-10-16T16:24:01.810991Z",
     "iopub.status.busy": "2024-10-16T16:24:01.810455Z",
     "iopub.status.idle": "2024-10-16T16:24:05.693404Z",
     "shell.execute_reply": "2024-10-16T16:24:05.692151Z"
    },
    "papermill": {
     "duration": 3.893541,
     "end_time": "2024-10-16T16:24:05.695995",
     "exception": false,
     "start_time": "2024-10-16T16:24:01.802454",
     "status": "completed"
    },
    "tags": []
   },
   "outputs": [
    {
     "name": "stdout",
     "output_type": "stream",
     "text": [
      "<class 'pandas.core.frame.DataFrame'>\n",
      "RangeIndex: 891 entries, 0 to 890\n",
      "Data columns (total 12 columns):\n",
      " #   Column       Non-Null Count  Dtype  \n",
      "---  ------       --------------  -----  \n",
      " 0   PassengerId  891 non-null    int64  \n",
      " 1   Survived     891 non-null    int64  \n",
      " 2   Pclass       891 non-null    int64  \n",
      " 3   Name         891 non-null    object \n",
      " 4   Sex          891 non-null    object \n",
      " 5   Age          714 non-null    float64\n",
      " 6   SibSp        891 non-null    int64  \n",
      " 7   Parch        891 non-null    int64  \n",
      " 8   Ticket       891 non-null    object \n",
      " 9   Fare         891 non-null    float64\n",
      " 10  Cabin        204 non-null    object \n",
      " 11  Embarked     889 non-null    object \n",
      "dtypes: float64(2), int64(5), object(5)\n",
      "memory usage: 83.7+ KB\n"
     ]
    }
   ],
   "source": [
    "import numpy as np \n",
    "import pandas as pd\n",
    "import seaborn as sns\n",
    "import matplotlib \n",
    "import matplotlib.pyplot as plt\n",
    "from sklearn.svm import SVC\n",
    "from matplotlib.pyplot import figure\n",
    "from sklearn.model_selection import train_test_split\n",
    "from sklearn.linear_model import LogisticRegression\n",
    "from sklearn.preprocessing import OneHotEncoder, StandardScaler\n",
    "from sklearn.ensemble import RandomForestClassifier, GradientBoostingClassifier\n",
    "from sklearn.neighbors import KNeighborsClassifier\n",
    "from sklearn.metrics import accuracy_score\n",
    "\n",
    "titanic_data = pd.read_csv('/kaggle/input/titanic/train.csv')\n",
    "titanic_test_data = pd.read_csv('/kaggle/input/titanic/test.csv')\n",
    "titanic_data.info()"
   ]
  },
  {
   "cell_type": "code",
   "execution_count": 2,
   "id": "30a95748",
   "metadata": {
    "execution": {
     "iopub.execute_input": "2024-10-16T16:24:05.712126Z",
     "iopub.status.busy": "2024-10-16T16:24:05.711632Z",
     "iopub.status.idle": "2024-10-16T16:24:05.754803Z",
     "shell.execute_reply": "2024-10-16T16:24:05.753717Z"
    },
    "papermill": {
     "duration": 0.054289,
     "end_time": "2024-10-16T16:24:05.757373",
     "exception": false,
     "start_time": "2024-10-16T16:24:05.703084",
     "status": "completed"
    },
    "tags": []
   },
   "outputs": [
    {
     "data": {
      "text/html": [
       "<div>\n",
       "<style scoped>\n",
       "    .dataframe tbody tr th:only-of-type {\n",
       "        vertical-align: middle;\n",
       "    }\n",
       "\n",
       "    .dataframe tbody tr th {\n",
       "        vertical-align: top;\n",
       "    }\n",
       "\n",
       "    .dataframe thead th {\n",
       "        text-align: right;\n",
       "    }\n",
       "</style>\n",
       "<table border=\"1\" class=\"dataframe\">\n",
       "  <thead>\n",
       "    <tr style=\"text-align: right;\">\n",
       "      <th></th>\n",
       "      <th>PassengerId</th>\n",
       "      <th>Survived</th>\n",
       "      <th>Pclass</th>\n",
       "      <th>Age</th>\n",
       "      <th>SibSp</th>\n",
       "      <th>Parch</th>\n",
       "      <th>Fare</th>\n",
       "    </tr>\n",
       "  </thead>\n",
       "  <tbody>\n",
       "    <tr>\n",
       "      <th>count</th>\n",
       "      <td>891.000000</td>\n",
       "      <td>891.000000</td>\n",
       "      <td>891.000000</td>\n",
       "      <td>714.000000</td>\n",
       "      <td>891.000000</td>\n",
       "      <td>891.000000</td>\n",
       "      <td>891.000000</td>\n",
       "    </tr>\n",
       "    <tr>\n",
       "      <th>mean</th>\n",
       "      <td>446.000000</td>\n",
       "      <td>0.383838</td>\n",
       "      <td>2.308642</td>\n",
       "      <td>29.699118</td>\n",
       "      <td>0.523008</td>\n",
       "      <td>0.381594</td>\n",
       "      <td>32.204208</td>\n",
       "    </tr>\n",
       "    <tr>\n",
       "      <th>std</th>\n",
       "      <td>257.353842</td>\n",
       "      <td>0.486592</td>\n",
       "      <td>0.836071</td>\n",
       "      <td>14.526497</td>\n",
       "      <td>1.102743</td>\n",
       "      <td>0.806057</td>\n",
       "      <td>49.693429</td>\n",
       "    </tr>\n",
       "    <tr>\n",
       "      <th>min</th>\n",
       "      <td>1.000000</td>\n",
       "      <td>0.000000</td>\n",
       "      <td>1.000000</td>\n",
       "      <td>0.420000</td>\n",
       "      <td>0.000000</td>\n",
       "      <td>0.000000</td>\n",
       "      <td>0.000000</td>\n",
       "    </tr>\n",
       "    <tr>\n",
       "      <th>25%</th>\n",
       "      <td>223.500000</td>\n",
       "      <td>0.000000</td>\n",
       "      <td>2.000000</td>\n",
       "      <td>20.125000</td>\n",
       "      <td>0.000000</td>\n",
       "      <td>0.000000</td>\n",
       "      <td>7.910400</td>\n",
       "    </tr>\n",
       "    <tr>\n",
       "      <th>50%</th>\n",
       "      <td>446.000000</td>\n",
       "      <td>0.000000</td>\n",
       "      <td>3.000000</td>\n",
       "      <td>28.000000</td>\n",
       "      <td>0.000000</td>\n",
       "      <td>0.000000</td>\n",
       "      <td>14.454200</td>\n",
       "    </tr>\n",
       "    <tr>\n",
       "      <th>75%</th>\n",
       "      <td>668.500000</td>\n",
       "      <td>1.000000</td>\n",
       "      <td>3.000000</td>\n",
       "      <td>38.000000</td>\n",
       "      <td>1.000000</td>\n",
       "      <td>0.000000</td>\n",
       "      <td>31.000000</td>\n",
       "    </tr>\n",
       "    <tr>\n",
       "      <th>max</th>\n",
       "      <td>891.000000</td>\n",
       "      <td>1.000000</td>\n",
       "      <td>3.000000</td>\n",
       "      <td>80.000000</td>\n",
       "      <td>8.000000</td>\n",
       "      <td>6.000000</td>\n",
       "      <td>512.329200</td>\n",
       "    </tr>\n",
       "  </tbody>\n",
       "</table>\n",
       "</div>"
      ],
      "text/plain": [
       "       PassengerId    Survived      Pclass         Age       SibSp  \\\n",
       "count   891.000000  891.000000  891.000000  714.000000  891.000000   \n",
       "mean    446.000000    0.383838    2.308642   29.699118    0.523008   \n",
       "std     257.353842    0.486592    0.836071   14.526497    1.102743   \n",
       "min       1.000000    0.000000    1.000000    0.420000    0.000000   \n",
       "25%     223.500000    0.000000    2.000000   20.125000    0.000000   \n",
       "50%     446.000000    0.000000    3.000000   28.000000    0.000000   \n",
       "75%     668.500000    1.000000    3.000000   38.000000    1.000000   \n",
       "max     891.000000    1.000000    3.000000   80.000000    8.000000   \n",
       "\n",
       "            Parch        Fare  \n",
       "count  891.000000  891.000000  \n",
       "mean     0.381594   32.204208  \n",
       "std      0.806057   49.693429  \n",
       "min      0.000000    0.000000  \n",
       "25%      0.000000    7.910400  \n",
       "50%      0.000000   14.454200  \n",
       "75%      0.000000   31.000000  \n",
       "max      6.000000  512.329200  "
      ]
     },
     "execution_count": 2,
     "metadata": {},
     "output_type": "execute_result"
    }
   ],
   "source": [
    "titanic_data.describe()"
   ]
  },
  {
   "cell_type": "code",
   "execution_count": 3,
   "id": "a7b2931b",
   "metadata": {
    "execution": {
     "iopub.execute_input": "2024-10-16T16:24:05.773475Z",
     "iopub.status.busy": "2024-10-16T16:24:05.773016Z",
     "iopub.status.idle": "2024-10-16T16:24:07.917902Z",
     "shell.execute_reply": "2024-10-16T16:24:07.916790Z"
    },
    "papermill": {
     "duration": 2.156071,
     "end_time": "2024-10-16T16:24:07.920575",
     "exception": false,
     "start_time": "2024-10-16T16:24:05.764504",
     "status": "completed"
    },
    "tags": []
   },
   "outputs": [
    {
     "data": {
      "image/png": "[encoded data removed]",
      "text/plain": [
       "<Figure size 1000x800 with 9 Axes>"
      ]
     },
     "metadata": {},
     "output_type": "display_data"
    }
   ],
   "source": [
    "titanic_data.hist(figsize=(10, 8), bins=30)\n",
    "plt.tight_layout()\n",
    "plt.show()"
   ]
  },
  {
   "cell_type": "markdown",
   "id": "f10e85bb",
   "metadata": {
    "papermill": {
     "duration": 0.007494,
     "end_time": "2024-10-16T16:24:07.935943",
     "exception": false,
     "start_time": "2024-10-16T16:24:07.928449",
     "status": "completed"
    },
    "tags": []
   },
   "source": [
    "# Data Cleaning and Processing"
   ]
  },
  {
   "cell_type": "markdown",
   "id": "d399b30f",
   "metadata": {
    "papermill": {
     "duration": 0.007552,
     "end_time": "2024-10-16T16:24:07.951249",
     "exception": false,
     "start_time": "2024-10-16T16:24:07.943697",
     "status": "completed"
    },
    "tags": []
   },
   "source": [
    "## Missing Data Handling"
   ]
  },
  {
   "cell_type": "code",
   "execution_count": 4,
   "id": "7c149980",
   "metadata": {
    "execution": {
     "iopub.execute_input": "2024-10-16T16:24:07.969084Z",
     "iopub.status.busy": "2024-10-16T16:24:07.968101Z",
     "iopub.status.idle": "2024-10-16T16:24:08.000083Z",
     "shell.execute_reply": "2024-10-16T16:24:07.998968Z"
    },
    "papermill": {
     "duration": 0.044077,
     "end_time": "2024-10-16T16:24:08.003032",
     "exception": false,
     "start_time": "2024-10-16T16:24:07.958955",
     "status": "completed"
    },
    "tags": []
   },
   "outputs": [],
   "source": [
    "# Calculate and fill the median age where Age is not null and Parch > 0\n",
    "median_age = titanic_data[(~titanic_data['Age'].isnull()) & (titanic_data['Parch'] > 0)]['Age'].median()\n",
    "titanic_data.loc[(titanic_data['Age'].isnull()) & (titanic_data['Parch'] > 0), 'Age'] = median_age\n",
    "\n",
    "\n",
    "# Calculate and fill the median age where Age is not null and Parch = 0\n",
    "median_age = titanic_data[(~titanic_data['Age'].isnull()) & (titanic_data['Parch'] == 0)]['Age'].median()\n",
    "titanic_data.loc[(titanic_data['Age'].isnull()) & (titanic_data['Parch'] > 0), 'Age'] = median_age\n",
    "\n",
    "# Calculate the median age where Age is not null for the rest \n",
    "median_age = titanic_data[(~titanic_data['Age'].isnull())]['Age'].median()\n",
    "titanic_data.loc[(titanic_data['Age'].isnull()), 'Age'] = median_age\n",
    "\n",
    "titanic_data['Embarked'] = titanic_data['Embarked'].fillna('S')\n",
    "\n",
    "# Apply Changes on Test Data\n",
    "median_age = titanic_test_data[(~titanic_test_data['Age'].isnull()) & (titanic_test_data['Parch'] > 0)]['Age'].median()\n",
    "titanic_test_data.loc[(titanic_test_data['Age'].isnull()) & (titanic_test_data['Parch'] > 0), 'Age'] = median_age\n",
    "\n",
    "\n",
    "# Calculate and fill the median age where Age is not null and Parch = 0\n",
    "median_age = titanic_test_data[(~titanic_test_data['Age'].isnull()) & (titanic_test_data['Parch'] == 0)]['Age'].median()\n",
    "titanic_test_data.loc[(titanic_test_data['Age'].isnull()) & (titanic_test_data['Parch'] > 0), 'Age'] = median_age\n",
    "\n",
    "# Calculate the median age where Age is not null for the rest \n",
    "median_age = titanic_test_data[(~titanic_test_data['Age'].isnull())]['Age'].median()\n",
    "titanic_test_data.loc[(titanic_test_data['Age'].isnull()), 'Age'] = median_age\n",
    "\n",
    "titanic_test_data['Embarked'] = titanic_test_data['Embarked'].fillna('S')\n",
    "\n",
    "titanic_test_data['Fare'] = titanic_test_data['Fare'].fillna(titanic_test_data['Fare'].median())\n"
   ]
  },
  {
   "cell_type": "markdown",
   "id": "622fc14a",
   "metadata": {
    "papermill": {
     "duration": 0.009133,
     "end_time": "2024-10-16T16:24:08.020071",
     "exception": false,
     "start_time": "2024-10-16T16:24:08.010938",
     "status": "completed"
    },
    "tags": []
   },
   "source": [
    "## Data Transformation "
   ]
  },
  {
   "cell_type": "code",
   "execution_count": 5,
   "id": "127acb44",
   "metadata": {
    "execution": {
     "iopub.execute_input": "2024-10-16T16:24:08.037968Z",
     "iopub.status.busy": "2024-10-16T16:24:08.037535Z",
     "iopub.status.idle": "2024-10-16T16:24:08.047232Z",
     "shell.execute_reply": "2024-10-16T16:24:08.045945Z"
    },
    "papermill": {
     "duration": 0.02161,
     "end_time": "2024-10-16T16:24:08.049565",
     "exception": false,
     "start_time": "2024-10-16T16:24:08.027955",
     "status": "completed"
    },
    "tags": []
   },
   "outputs": [],
   "source": [
    "# Convert Sex col to binary\n",
    "titanic_data['Sex_binary'] = titanic_data['Sex'].apply(lambda x: 1 if x == 'male' else 0)\n",
    "\n",
    "# Apply Changes on Test Data\n",
    "titanic_test_data['Sex_binary'] = titanic_test_data['Sex'].apply(lambda x: 1 if x == 'male' else 0)"
   ]
  },
  {
   "cell_type": "code",
   "execution_count": 6,
   "id": "ef17d217",
   "metadata": {
    "execution": {
     "iopub.execute_input": "2024-10-16T16:24:08.067263Z",
     "iopub.status.busy": "2024-10-16T16:24:08.066784Z",
     "iopub.status.idle": "2024-10-16T16:24:08.084873Z",
     "shell.execute_reply": "2024-10-16T16:24:08.083854Z"
    },
    "papermill": {
     "duration": 0.029886,
     "end_time": "2024-10-16T16:24:08.087561",
     "exception": false,
     "start_time": "2024-10-16T16:24:08.057675",
     "status": "completed"
    },
    "tags": []
   },
   "outputs": [],
   "source": [
    "# Convert 'Embarked' col using one-hot-encoded \n",
    "embarked_reshaped = titanic_data['Embarked'].values.reshape(-1, 1)\n",
    "\n",
    "one_hot_encoder = OneHotEncoder(sparse_output=False)\n",
    "\n",
    "data_cat_encoded = one_hot_encoder.fit_transform(embarked_reshaped)\n",
    "\n",
    "encoded_df = pd.DataFrame(data_cat_encoded, columns=one_hot_encoder.get_feature_names_out(['Embarked']))\n",
    "\n",
    "titanic_data = pd.concat([titanic_data, encoded_df], axis=1)\n",
    "\n",
    "# Apply Changes on Test Data\n",
    "\n",
    "embarked_reshaped = titanic_test_data['Embarked'].values.reshape(-1, 1)\n",
    "\n",
    "one_hot_encoder = OneHotEncoder(sparse_output=False)\n",
    "\n",
    "data_cat_encoded = one_hot_encoder.fit_transform(embarked_reshaped)\n",
    "\n",
    "encoded_df = pd.DataFrame(data_cat_encoded, columns=one_hot_encoder.get_feature_names_out(['Embarked']))\n",
    "\n",
    "titanic_test_data = pd.concat([titanic_test_data, encoded_df], axis=1)"
   ]
  },
  {
   "cell_type": "code",
   "execution_count": 7,
   "id": "d4945044",
   "metadata": {
    "execution": {
     "iopub.execute_input": "2024-10-16T16:24:08.104933Z",
     "iopub.status.busy": "2024-10-16T16:24:08.104495Z",
     "iopub.status.idle": "2024-10-16T16:24:08.124682Z",
     "shell.execute_reply": "2024-10-16T16:24:08.123515Z"
    },
    "papermill": {
     "duration": 0.032182,
     "end_time": "2024-10-16T16:24:08.127563",
     "exception": false,
     "start_time": "2024-10-16T16:24:08.095381",
     "status": "completed"
    },
    "tags": []
   },
   "outputs": [],
   "source": [
    "# Log transform the 'Fare' col\n",
    "titanic_data['Fare_log'] = np.log1p(titanic_data['Fare'])\n",
    "\n",
    "# Scale the numerical columns (Age, Parch)\n",
    "scaler = StandardScaler()\n",
    "titanic_data[['Age_scaled', 'Parch_scaled']] = scaler.fit_transform(titanic_data[['Age', 'Parch']])\n",
    "\n",
    "# Apply Changes on Test Data\n",
    "\n",
    "titanic_test_data['Fare_log'] = np.log1p(titanic_test_data['Fare'])\n",
    "\n",
    "# Scale the numerical columns (Age, Parch)\n",
    "scaler = StandardScaler()\n",
    "titanic_test_data[['Age_scaled', 'Parch_scaled']] = scaler.fit_transform(titanic_test_data[['Age', 'Parch']])"
   ]
  },
  {
   "cell_type": "code",
   "execution_count": 8,
   "id": "92360a5e",
   "metadata": {
    "execution": {
     "iopub.execute_input": "2024-10-16T16:24:08.144955Z",
     "iopub.status.busy": "2024-10-16T16:24:08.144547Z",
     "iopub.status.idle": "2024-10-16T16:24:08.159649Z",
     "shell.execute_reply": "2024-10-16T16:24:08.158500Z"
    },
    "papermill": {
     "duration": 0.026666,
     "end_time": "2024-10-16T16:24:08.162055",
     "exception": false,
     "start_time": "2024-10-16T16:24:08.135389",
     "status": "completed"
    },
    "tags": []
   },
   "outputs": [
    {
     "data": {
      "text/plain": [
       "Survived        1.000000\n",
       "Fare_log        0.329862\n",
       "Embarked_C      0.168240\n",
       "Parch_scaled    0.081629\n",
       "Embarked_Q      0.003650\n",
       "SibSp          -0.035322\n",
       "Age_scaled     -0.061851\n",
       "Embarked_S     -0.149683\n",
       "Pclass         -0.338481\n",
       "Sex_binary     -0.543351\n",
       "Name: Survived, dtype: float64"
      ]
     },
     "execution_count": 8,
     "metadata": {},
     "output_type": "execute_result"
    }
   ],
   "source": [
    "selected_columns = ['Pclass', 'Sex_binary', 'Age_scaled', 'SibSp', 'Parch_scaled', 'Fare_log', 'Embarked_C', 'Embarked_Q',  'Embarked_S', 'Survived']\n",
    "\n",
    "titanic_data_filtered = titanic_data[selected_columns]\n",
    "\n",
    "# Compute correlations using only numeric columns\n",
    "correlation_matrix = titanic_data_filtered.corr(method='pearson')\n",
    "\n",
    "correlation_matrix['Survived'].sort_values(ascending=False)"
   ]
  },
  {
   "cell_type": "markdown",
   "id": "17aa6e56",
   "metadata": {
    "papermill": {
     "duration": 0.007671,
     "end_time": "2024-10-16T16:24:08.177682",
     "exception": false,
     "start_time": "2024-10-16T16:24:08.170011",
     "status": "completed"
    },
    "tags": []
   },
   "source": [
    "# Comparison of Results Across Various Models"
   ]
  },
  {
   "cell_type": "code",
   "execution_count": 9,
   "id": "c4c5fea6",
   "metadata": {
    "execution": {
     "iopub.execute_input": "2024-10-16T16:24:08.195592Z",
     "iopub.status.busy": "2024-10-16T16:24:08.195118Z",
     "iopub.status.idle": "2024-10-16T16:24:08.514356Z",
     "shell.execute_reply": "2024-10-16T16:24:08.512995Z"
    },
    "papermill": {
     "duration": 0.331261,
     "end_time": "2024-10-16T16:24:08.517032",
     "exception": false,
     "start_time": "2024-10-16T16:24:08.185771",
     "status": "completed"
    },
    "tags": []
   },
   "outputs": [
    {
     "name": "stdout",
     "output_type": "stream",
     "text": [
      "Logistic Regression Accuracy: 0.80\n",
      "Random Forest Accuracy: 0.84\n",
      "Gradient Boosting Accuracy: 0.80\n",
      "SVC Accuracy: 0.82\n",
      "KNN Accuracy: 0.83\n"
     ]
    }
   ],
   "source": [
    "X = titanic_data_filtered.drop('Survived', axis=1)\n",
    "y = titanic_data_filtered['Survived']\n",
    "\n",
    "X_train, X_val, y_train, y_val = train_test_split(X, y, test_size=0.2, random_state=42)\n",
    "\n",
    "models = {\n",
    "    'Logistic Regression': LogisticRegression( random_state=42),\n",
    "    'Random Forest': RandomForestClassifier(n_estimators=50, random_state=42),\n",
    "    'Gradient Boosting': GradientBoostingClassifier(n_estimators=50, random_state=42),\n",
    "    'SVC': SVC(C=1, random_state=42),\n",
    "    'KNN': KNeighborsClassifier(n_neighbors=3)\n",
    "}\n",
    "\n",
    "# Train and evaluate each model\n",
    "for model_name, model in models.items():\n",
    "    # Fit the model\n",
    "    model.fit(X_train, y_train)\n",
    "    \n",
    "    # Predict on the test set\n",
    "    y_pred = model.predict(X_val)\n",
    "    \n",
    "    # Calculate accuracy\n",
    "    accuracy = accuracy_score(y_val, y_pred)\n",
    "    \n",
    "    # Print the result\n",
    "    print(f\"{model_name} Accuracy: {accuracy:.2f}\")\n",
    "    "
   ]
  },
  {
   "cell_type": "code",
   "execution_count": 10,
   "id": "26f6058a",
   "metadata": {
    "execution": {
     "iopub.execute_input": "2024-10-16T16:24:08.534913Z",
     "iopub.status.busy": "2024-10-16T16:24:08.534492Z",
     "iopub.status.idle": "2024-10-16T16:24:09.651893Z",
     "shell.execute_reply": "2024-10-16T16:24:09.650500Z"
    },
    "papermill": {
     "duration": 1.12948,
     "end_time": "2024-10-16T16:24:09.654533",
     "exception": false,
     "start_time": "2024-10-16T16:24:08.525053",
     "status": "completed"
    },
    "tags": []
   },
   "outputs": [
    {
     "name": "stdout",
     "output_type": "stream",
     "text": [
      "Validation Accuracy n_estimators(10): 0.83\n",
      "Validation Accuracy n_estimators(50): 0.84\n",
      "Validation Accuracy n_estimators(100): 0.83\n",
      "Validation Accuracy n_estimators(200): 0.82\n"
     ]
    }
   ],
   "source": [
    "n_estimators = [10, 50, 100, 200]\n",
    "for est in n_estimators: \n",
    "    # Initialize and train the Random Forest classifier\n",
    "    rf = RandomForestClassifier(n_estimators=est, random_state=42)\n",
    "    rf.fit(X_train, y_train)\n",
    "    \n",
    "    # Evaluate the model on the validation set\n",
    "    y_val_pred = rf.predict(X_val)\n",
    "    accuracy = rf.score(X_val, y_val)\n",
    "    print(f\"Validation Accuracy n_estimators({est}): {accuracy:.2f}\")"
   ]
  },
  {
   "cell_type": "markdown",
   "id": "969da0aa",
   "metadata": {
    "papermill": {
     "duration": 0.008285,
     "end_time": "2024-10-16T16:24:09.671372",
     "exception": false,
     "start_time": "2024-10-16T16:24:09.663087",
     "status": "completed"
    },
    "tags": []
   },
   "source": [
    "## Select the Best Performance Model"
   ]
  },
  {
   "cell_type": "code",
   "execution_count": 11,
   "id": "0c4f5b24",
   "metadata": {
    "execution": {
     "iopub.execute_input": "2024-10-16T16:24:09.690255Z",
     "iopub.status.busy": "2024-10-16T16:24:09.689807Z",
     "iopub.status.idle": "2024-10-16T16:24:09.854808Z",
     "shell.execute_reply": "2024-10-16T16:24:09.853633Z"
    },
    "papermill": {
     "duration": 0.177622,
     "end_time": "2024-10-16T16:24:09.857473",
     "exception": false,
     "start_time": "2024-10-16T16:24:09.679851",
     "status": "completed"
    },
    "tags": []
   },
   "outputs": [
    {
     "data": {
      "text/html": [
       "<style>#sk-container-id-1 {color: black;background-color: white;}#sk-container-id-1 pre{padding: 0;}#sk-container-id-1 div.sk-toggleable {background-color: white;}#sk-container-id-1 label.sk-toggleable__label {cursor: pointer;display: block;width: 100%;margin-bottom: 0;padding: 0.3em;box-sizing: border-box;text-align: center;}#sk-container-id-1 label.sk-toggleable__label-arrow:before {content: \"▸\";float: left;margin-right: 0.25em;color: #696969;}#sk-container-id-1 label.sk-toggleable__label-arrow:hover:before {color: black;}#sk-container-id-1 div.sk-estimator:hover label.sk-toggleable__label-arrow:before {color: black;}#sk-container-id-1 div.sk-toggleable__content {max-height: 0;max-width: 0;overflow: hidden;text-align: left;background-color: #f0f8ff;}#sk-container-id-1 div.sk-toggleable__content pre {margin: 0.2em;color: black;border-radius: 0.25em;background-color: #f0f8ff;}#sk-container-id-1 input.sk-toggleable__control:checked~div.sk-toggleable__content {max-height: 200px;max-width: 100%;overflow: auto;}#sk-container-id-1 input.sk-toggleable__control:checked~label.sk-toggleable__label-arrow:before {content: \"▾\";}#sk-container-id-1 div.sk-estimator input.sk-toggleable__control:checked~label.sk-toggleable__label {background-color: #d4ebff;}#sk-container-id-1 div.sk-label input.sk-toggleable__control:checked~label.sk-toggleable__label {background-color: #d4ebff;}#sk-container-id-1 input.sk-hidden--visually {border: 0;clip: rect(1px 1px 1px 1px);clip: rect(1px, 1px, 1px, 1px);height: 1px;margin: -1px;overflow: hidden;padding: 0;position: absolute;width: 1px;}#sk-container-id-1 div.sk-estimator {font-family: monospace;background-color: #f0f8ff;border: 1px dotted black;border-radius: 0.25em;box-sizing: border-box;margin-bottom: 0.5em;}#sk-container-id-1 div.sk-estimator:hover {background-color: #d4ebff;}#sk-container-id-1 div.sk-parallel-item::after {content: \"\";width: 100%;border-bottom: 1px solid gray;flex-grow: 1;}#sk-container-id-1 div.sk-label:hover label.sk-toggleable__label {background-color: #d4ebff;}#sk-container-id-1 div.sk-serial::before {content: \"\";position: absolute;border-left: 1px solid gray;box-sizing: border-box;top: 0;bottom: 0;left: 50%;z-index: 0;}#sk-container-id-1 div.sk-serial {display: flex;flex-direction: column;align-items: center;background-color: white;padding-right: 0.2em;padding-left: 0.2em;position: relative;}#sk-container-id-1 div.sk-item {position: relative;z-index: 1;}#sk-container-id-1 div.sk-parallel {display: flex;align-items: stretch;justify-content: center;background-color: white;position: relative;}#sk-container-id-1 div.sk-item::before, #sk-container-id-1 div.sk-parallel-item::before {content: \"\";position: absolute;border-left: 1px solid gray;box-sizing: border-box;top: 0;bottom: 0;left: 50%;z-index: -1;}#sk-container-id-1 div.sk-parallel-item {display: flex;flex-direction: column;z-index: 1;position: relative;background-color: white;}#sk-container-id-1 div.sk-parallel-item:first-child::after {align-self: flex-end;width: 50%;}#sk-container-id-1 div.sk-parallel-item:last-child::after {align-self: flex-start;width: 50%;}#sk-container-id-1 div.sk-parallel-item:only-child::after {width: 0;}#sk-container-id-1 div.sk-dashed-wrapped {border: 1px dashed gray;margin: 0 0.4em 0.5em 0.4em;box-sizing: border-box;padding-bottom: 0.4em;background-color: white;}#sk-container-id-1 div.sk-label label {font-family: monospace;font-weight: bold;display: inline-block;line-height: 1.2em;}#sk-container-id-1 div.sk-label-container {text-align: center;}#sk-container-id-1 div.sk-container {/* jupyter's `normalize.less` sets `[hidden] { display: none; }` but bootstrap.min.css set `[hidden] { display: none !important; }` so we also need the `!important` here to be able to override the default hidden behavior on the sphinx rendered scikit-learn.org. See: https://github.com/scikit-learn/scikit-learn/issues/21755 */display: inline-block !important;position: relative;}#sk-container-id-1 div.sk-text-repr-fallback {display: none;}</style><div id=\"sk-container-id-1\" class=\"sk-top-container\"><div class=\"sk-text-repr-fallback\"><pre>RandomForestClassifier(n_estimators=50, random_state=42)</pre><b>In a Jupyter environment, please rerun this cell to show the HTML representation or trust the notebook. <br />On GitHub, the HTML representation is unable to render, please try loading this page with nbviewer.org.</b></div><div class=\"sk-container\" hidden><div class=\"sk-item\"><div class=\"sk-estimator sk-toggleable\"><input class=\"sk-toggleable__control sk-hidden--visually\" id=\"sk-estimator-id-1\" type=\"checkbox\" checked><label for=\"sk-estimator-id-1\" class=\"sk-toggleable__label sk-toggleable__label-arrow\">RandomForestClassifier</label><div class=\"sk-toggleable__content\"><pre>RandomForestClassifier(n_estimators=50, random_state=42)</pre></div></div></div></div></div>"
      ],
      "text/plain": [
       "RandomForestClassifier(n_estimators=50, random_state=42)"
      ]
     },
     "execution_count": 11,
     "metadata": {},
     "output_type": "execute_result"
    }
   ],
   "source": [
    "# refit it again without splitting\n",
    "X = titanic_data_filtered.drop('Survived', axis=1)\n",
    "y = titanic_data_filtered['Survived']\n",
    "\n",
    "rf = RandomForestClassifier(n_estimators=50, random_state=42)\n",
    "rf.fit(X, y)"
   ]
  },
  {
   "cell_type": "markdown",
   "id": "4791b804",
   "metadata": {
    "papermill": {
     "duration": 0.008728,
     "end_time": "2024-10-16T16:24:09.875259",
     "exception": false,
     "start_time": "2024-10-16T16:24:09.866531",
     "status": "completed"
    },
    "tags": []
   },
   "source": [
    "## Test Data & Submit Results"
   ]
  },
  {
   "cell_type": "code",
   "execution_count": 12,
   "id": "df3ddaf3",
   "metadata": {
    "execution": {
     "iopub.execute_input": "2024-10-16T16:24:09.895166Z",
     "iopub.status.busy": "2024-10-16T16:24:09.894198Z",
     "iopub.status.idle": "2024-10-16T16:24:09.917739Z",
     "shell.execute_reply": "2024-10-16T16:24:09.916722Z"
    },
    "papermill": {
     "duration": 0.036736,
     "end_time": "2024-10-16T16:24:09.920770",
     "exception": false,
     "start_time": "2024-10-16T16:24:09.884034",
     "status": "completed"
    },
    "tags": []
   },
   "outputs": [],
   "source": [
    "selected_columns = ['Pclass', 'Sex_binary', 'Age_scaled', 'SibSp', 'Parch_scaled', 'Fare_log', 'Embarked_C', 'Embarked_Q',  'Embarked_S']\n",
    "\n",
    "X_test = titanic_test_data[selected_columns]\n",
    "predictions = rf.predict(X_test)\n",
    "\n",
    "predictions_df = pd.DataFrame({\n",
    "    'PassengerId': titanic_test_data['PassengerId'],\n",
    "    'Survived': predictions  # 'predictions' is the array you generated\n",
    "})\n",
    "\n",
    "predictions_df.to_csv('submission.csv', index=False)"
   ]
  }
 ],
 "metadata": {
  "kaggle": {
   "accelerator": "none",
   "dataSources": [
    {
     "databundleVersionId": 26502,
     "sourceId": 3136,
     "sourceType": "competition"
    }
   ],
   "dockerImageVersionId": 30786,
   "isGpuEnabled": false,
   "isInternetEnabled": true,
   "language": "python",
   "sourceType": "notebook"
  },
  "kernelspec": {
   "display_name": "Python 3",
   "language": "python",
   "name": "python3"
  },
  "language_info": {
   "codemirror_mode": {
    "name": "ipython",
    "version": 3
   },
   "file_extension": ".py",
   "mimetype": "text/x-python",
   "name": "python",
   "nbconvert_exporter": "python",
   "pygments_lexer": "ipython3",
   "version": "3.10.14"
  },
  "papermill": {
   "default_parameters": {},
   "duration": 12.162678,
   "end_time": "2024-10-16T16:24:10.652193",
   "environment_variables": {},
   "exception": null,
   "input_path": "__notebook__.ipynb",
   "output_path": "__notebook__.ipynb",
   "parameters": {},
   "start_time": "2024-10-16T16:23:58.489515",
   "version": "2.6.0"
  }
 },
 "nbformat": 4,
 "nbformat_minor": 5
}
